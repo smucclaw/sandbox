{
 "cells": [
  {
   "cell_type": "code",
   "execution_count": 1,
   "metadata": {},
   "outputs": [],
   "source": [
    "import pandas as pd\n",
    "import numpy as np\n",
    "import torch\n",
    "from transformers import AutoTokenizer, AutoModelForQuestionAnswering"
   ]
  },
  {
   "cell_type": "markdown",
   "metadata": {},
   "source": [
    "Initialise the tokenzier"
   ]
  },
  {
   "cell_type": "code",
   "execution_count": 2,
   "metadata": {},
   "outputs": [],
   "source": [
    "tokenizer = AutoTokenizer.from_pretrained(\"valhalla/longformer-base-4096-finetuned-squadv1\")\n"
   ]
  },
  {
   "cell_type": "markdown",
   "metadata": {},
   "source": [
    "Initialise the model"
   ]
  },
  {
   "cell_type": "code",
   "execution_count": 3,
   "metadata": {},
   "outputs": [],
   "source": [
    "model = AutoModelForQuestionAnswering.from_pretrained(\"valhalla/longformer-base-4096-finetuned-squadv1\")"
   ]
  },
  {
   "cell_type": "markdown",
   "metadata": {},
   "source": [
    "Specify text and question"
   ]
  },
  {
   "cell_type": "code",
   "execution_count": 4,
   "metadata": {},
   "outputs": [],
   "source": [
    "# text = pd.read_csv(r'longtext.txt',header=None,sep='\\t')\n",
    "text = \"Chow Yun-fat SBS (born 18 May 1955), previously known as Donald Chow, is a Hong Kong actor known for his collaborations with filmmaker John Woo in the action heroic bloodshed films A Better Tomorrow, The Killer, and Hard Boiled, and in the West for his roles as Li Mu-bai in Crouching Tiger, Hidden Dragon and Sao Feng in Pirates of the Caribbean: At World's End. He mainly plays in drama films and has won three Hong Kong Film Awards for Best Actor and two Golden Horse Awards for Best Actor in Taiwan. Chow started his career in movies in 1976 with Goldig Films. Chow was born in Lamma Island, Hong Kong, to Chow Yung-Wan (周容允), who worked on a Shell Oil Company tanker, and Chan Lai-fong (陳麗芳), who was a cleaning lady and vegetable farmer. Chow grew up in a farming community on Lamma Island, in a house with no electricity. He woke up at dawn each morning to help his mother sell herbal jelly and Hakka tea-pudding (客家茶粿) on the streets; in the afternoons, he went to work in the fields. His family moved to Kowloon when he was ten. At 17, Chow left school to help support the family by doing odd jobs including a bellboy, postman, camera salesman, and taxi driver. Chow's life started to change after college when he responded to a newspaper advertisement, and his actor-trainee application was accepted by TVB, the local television station. He signed a three-year contract with the studio and made his acting debut. Chow became a heartthrob and familiar face in soap operas that were exported internationally. According to Chow Yun-fat's filmography, Chow made his debut in 1976 in various movies produced by Goldig Films, including Hot Blood (入冊).  Goldig Films was founded by Gouw Hiap Kian and produced or distributed over 100 movies from 1972 to 1982. Chow's first movie contract was an exclusive acting contract with Goldig Films (note page 3). Chow appeared in the 1980 TV series The Bund on TVB. The series, about the rise and fall of a gangster in 1930s Shanghai, was a hit throughout Asia and made Chow a star. Although Chow continued his TV success, his goal was to become a film actor. However, his occasional ventures into low-budget films in the 1980s after ones by Goldig were disastrous. Most of Chow's movies produced by Goldig Films under exclusive contract in the 1970s achieved high gross revenues of over HK$ 1m per movie. These figures are higher than ones Chow acted in the early 1980s, including Modern Heroes (江湖檔案), Soul Ash (灰靈), The Bund(上海灘), The Bund Part 2(上海灘續集) . Note gross revenues under list of movies. Success finally came when he teamed up with director John Woo in the 1986 gangster action-melodrama A Better Tomorrow, which swept the box offices in Asia and established Chow and Woo as megastars. A Better Tomorrow won him his first Best Actor award at the Hong Kong Film Awards. It was the highest-grossing film in Hong Kong history at the time, and set a new standard for Hong Kong gangster films. Taking the opportunity, Chow quit TV entirely. With his new image from A Better Tomorrow, he made many more 'gun fu' or 'heroic bloodshed' films, such as A Better Tomorrow 2 (1987), Prison on Fire (1987), Prison on Fire II (1991), The Killer (1989), A Better Tomorrow 3 (1990), Hard Boiled (1992) and City on Fire (1987), an inspiration for Quentin Tarantino's Reservoir Dogs. Chow may be best known for playing honorable tough guys, whether cops or criminals, but he has also starred in comedies like Diary of a Big Man (1988) and Now You See Love, Now You Don't (1992) and romantic blockbusters such as Love in a Fallen City (1984) and An Autumn's Tale (1987), for which he was named Best Actor at the Golden Horse Awards. He brought together his disparate personae in the 1989 film God of Gamblers, directed by the prolific Wong Jing, in which he was by turns a suave charmer, a broad comedian, and an action hero. The film surprised many, became immensely popular, broke Hong Kong's all-time box office record, and spawned a series of gambling films as well as several comic sequels starring Andy Lau and Stephen Chow. The often tough demeanour and youthful appearance of Chow's characters has earned him the nickname 'Babyface Killer'. Chow Yun-fat at the premiere of Pirates of the Caribbean: At World's End in 2007. The Los Angeles Times proclaimed Chow Yun-Fat 'the coolest actor in the world'. In the mid '90s, Chow moved to Hollywood in an ultimately unsuccessful attempt to duplicate his success in Asia. His first two films, The Replacement Killers (1998) and The Corruptor (1999), were box office failures. In his next film Anna and the King (1999), Chow teamed up with Jodie Foster, but the film underperformed at the box office. Chow accepted the role of Li Mu-Bai in the (2000) film Crouching Tiger, Hidden Dragon. It became a winner at both the international box office and the Oscars. In 2003, Chow came back to Hollywood and starred in Bulletproof Monk. In 2004, Chow made a surprise cameo in director Dayyan Eng's Chinese rom-com favourite Waiting Alone, it was the first time he was in a mainland Chinese film. In 2006, he teamed up with Gong Li in the film Curse of the Golden Flower, directed by Zhang Yimou. In 2007, Chow played the pirate captain Sao Feng in Pirates of the Caribbean: At World's End. However, his part was omitted when the movie was shown in mainland China, where government censors felt that Chow's character 'vilified and humiliated' Chinese people. In the poorly received film Dragonball Evolution, Chow Yun-fat played Master Roshi. In 2014, Chow returned to Hong Kong cinema in From Vegas to Macau. For the part, he lost 13 kg within 10 months. In 2015 and 2016, Chow reprised his role as Ken in the sequels From Vegas to Macau II and From Vegas to Macau III. In 2018, he co-starred with Aaron Kwok in Project Gutenberg which earned him another Best Actor nomination at the 38th Hong Kong Film Awards. On 26 June 2008, Chow released his first photo collection, which includes pictures taken on the sets of his films. Proceeds from the book's sales were donated to Sichuan earthquake victims. It is published by Louis Vuitton. Chow has been married twice; first was in 1983 to Candice Yu, an actress from Asia Television; the marriage lasted nine months. In 1986, Chow married Singaporean Jasmine Tan. They had a stillborn daughter in 1991. Chow has a goddaughter, Celine Ng, a former child model for Chickeeduck, McDonald's, Toys'R'Us and other companies. Despite his wealth, Chow lives modestly. He is frequently seen at food stalls and on public transportation. In interviews, he has said he plans to leave his fortune to charity. In October 2014, Chow voiced support for students in the Umbrella Movement, a civil rights movement for universal suffrage in Hong Kong. Chow has appeared in over 95 films and over 25 television series. Hong Kong Film Awards he won are : Best Actor Nomination for Hong Kong 1941. Best Actor Nomination for Women, Best Supporting Actor Nomination for Love Unto Waste, Best Actor for A Better Tomorrow, Best Actor Nomination for Prison on Fire, Best Actor Nomination for An Autumn's Tale, Best Actor for City on Fire, Best Original Film Song Nomination for The Diary of a Big Man, Best Original Film Song Nomination for Triads: The Inside Story, Best Actor Nomination for God of Gamblers, Best Actor for All About Ah-Long, Best Actor Nomination for Once a Thief, Best Actor Nomination for Treasure Hunt, Best Actor Nomination for Peace Hotel, Best Actor Nomination for Crouching Tiger, Hidden Dragon, Best Actor Nomination for Curse of the Golden Flower, Best Supporting Actor Nomination for The Postmodern Life of My Aunt, Best Actor Nomination for Project Gutenberg, (14 Best Actor nominations, two Best Supporting Actor nominations, two Best Original Film Song nominations). In Chinese American Film Festival he won Golden Angel for Best Actor in a Leading Role for Project Gutenberg (2019). In 2014, Chow was the second-highest earning actor in Hong Kong, earning HK$170 million (US$21.9 million). His reported net worth is HK$5.6 billion (US$714 million). In 2018, Chow's wife Jasmine Tan informed various Hong Kong media the figure HK$5.6b of Chow's net worth, which was not verified by any third party. Chow also said he would donate 99% of his wealth to charity via setting up a foundation to help those in need. There have been no other reports on who controls the foundation and its ultimate beneficiaries. His University Honoary Awards are Hong Kong Academy for Performing Arts - Honorary Fellow (1999) , City University of Hong Kong - Honorary Doctor of Letters (2001) , Hong Kong Baptist University - Doctor of Humanities, honoris causa (2021)\"\n"
   ]
  },
  {
   "cell_type": "code",
   "execution_count": 5,
   "metadata": {},
   "outputs": [
    {
     "name": "stdout",
     "output_type": "stream",
     "text": [
      "Chow Yun-fat SBS (born 18 May 1955), previously known as Donald Chow, is a Hong Kong actor known for his collaborations with filmmaker John Woo in the action heroic bloodshed films A Better Tomorrow, The Killer, and Hard Boiled, and in the West for his roles as Li Mu-bai in Crouching Tiger, Hidden Dragon and Sao Feng in Pirates of the Caribbean: At World's End. He mainly plays in drama films and has won three Hong Kong Film Awards for Best Actor and two Golden Horse Awards for Best Actor in Taiwan. Chow started his career in movies in 1976 with Goldig Films. Chow was born in Lamma Island, Hong Kong, to Chow Yung-Wan (周容允), who worked on a Shell Oil Company tanker, and Chan Lai-fong (陳麗芳), who was a cleaning lady and vegetable farmer. Chow grew up in a farming community on Lamma Island, in a house with no electricity. He woke up at dawn each morning to help his mother sell herbal jelly and Hakka tea-pudding (客家茶粿) on the streets; in the afternoons, he went to work in the fields. His family moved to Kowloon when he was ten. At 17, Chow left school to help support the family by doing odd jobs including a bellboy, postman, camera salesman, and taxi driver. Chow's life started to change after college when he responded to a newspaper advertisement, and his actor-trainee application was accepted by TVB, the local television station. He signed a three-year contract with the studio and made his acting debut. Chow became a heartthrob and familiar face in soap operas that were exported internationally. According to Chow Yun-fat's filmography, Chow made his debut in 1976 in various movies produced by Goldig Films, including Hot Blood (入冊).  Goldig Films was founded by Gouw Hiap Kian and produced or distributed over 100 movies from 1972 to 1982. Chow's first movie contract was an exclusive acting contract with Goldig Films (note page 3). Chow appeared in the 1980 TV series The Bund on TVB. The series, about the rise and fall of a gangster in 1930s Shanghai, was a hit throughout Asia and made Chow a star. Although Chow continued his TV success, his goal was to become a film actor. However, his occasional ventures into low-budget films in the 1980s after ones by Goldig were disastrous. Most of Chow's movies produced by Goldig Films under exclusive contract in the 1970s achieved high gross revenues of over HK$ 1m per movie. These figures are higher than ones Chow acted in the early 1980s, including Modern Heroes (江湖檔案), Soul Ash (灰靈), The Bund(上海灘), The Bund Part 2(上海灘續集) . Note gross revenues under list of movies. Success finally came when he teamed up with director John Woo in the 1986 gangster action-melodrama A Better Tomorrow, which swept the box offices in Asia and established Chow and Woo as megastars. A Better Tomorrow won him his first Best Actor award at the Hong Kong Film Awards. It was the highest-grossing film in Hong Kong history at the time, and set a new standard for Hong Kong gangster films. Taking the opportunity, Chow quit TV entirely. With his new image from A Better Tomorrow, he made many more 'gun fu' or 'heroic bloodshed' films, such as A Better Tomorrow 2 (1987), Prison on Fire (1987), Prison on Fire II (1991), The Killer (1989), A Better Tomorrow 3 (1990), Hard Boiled (1992) and City on Fire (1987), an inspiration for Quentin Tarantino's Reservoir Dogs. Chow may be best known for playing honorable tough guys, whether cops or criminals, but he has also starred in comedies like Diary of a Big Man (1988) and Now You See Love, Now You Don't (1992) and romantic blockbusters such as Love in a Fallen City (1984) and An Autumn's Tale (1987), for which he was named Best Actor at the Golden Horse Awards. He brought together his disparate personae in the 1989 film God of Gamblers, directed by the prolific Wong Jing, in which he was by turns a suave charmer, a broad comedian, and an action hero. The film surprised many, became immensely popular, broke Hong Kong's all-time box office record, and spawned a series of gambling films as well as several comic sequels starring Andy Lau and Stephen Chow. The often tough demeanour and youthful appearance of Chow's characters has earned him the nickname 'Babyface Killer'. Chow Yun-fat at the premiere of Pirates of the Caribbean: At World's End in 2007. The Los Angeles Times proclaimed Chow Yun-Fat 'the coolest actor in the world'. In the mid '90s, Chow moved to Hollywood in an ultimately unsuccessful attempt to duplicate his success in Asia. His first two films, The Replacement Killers (1998) and The Corruptor (1999), were box office failures. In his next film Anna and the King (1999), Chow teamed up with Jodie Foster, but the film underperformed at the box office. Chow accepted the role of Li Mu-Bai in the (2000) film Crouching Tiger, Hidden Dragon. It became a winner at both the international box office and the Oscars. In 2003, Chow came back to Hollywood and starred in Bulletproof Monk. In 2004, Chow made a surprise cameo in director Dayyan Eng's Chinese rom-com favourite Waiting Alone, it was the first time he was in a mainland Chinese film. In 2006, he teamed up with Gong Li in the film Curse of the Golden Flower, directed by Zhang Yimou. In 2007, Chow played the pirate captain Sao Feng in Pirates of the Caribbean: At World's End. However, his part was omitted when the movie was shown in mainland China, where government censors felt that Chow's character 'vilified and humiliated' Chinese people. In the poorly received film Dragonball Evolution, Chow Yun-fat played Master Roshi. In 2014, Chow returned to Hong Kong cinema in From Vegas to Macau. For the part, he lost 13 kg within 10 months. In 2015 and 2016, Chow reprised his role as Ken in the sequels From Vegas to Macau II and From Vegas to Macau III. In 2018, he co-starred with Aaron Kwok in Project Gutenberg which earned him another Best Actor nomination at the 38th Hong Kong Film Awards. On 26 June 2008, Chow released his first photo collection, which includes pictures taken on the sets of his films. Proceeds from the book's sales were donated to Sichuan earthquake victims. It is published by Louis Vuitton. Chow has been married twice; first was in 1983 to Candice Yu, an actress from Asia Television; the marriage lasted nine months. In 1986, Chow married Singaporean Jasmine Tan. They had a stillborn daughter in 1991. Chow has a goddaughter, Celine Ng, a former child model for Chickeeduck, McDonald's, Toys'R'Us and other companies. Despite his wealth, Chow lives modestly. He is frequently seen at food stalls and on public transportation. In interviews, he has said he plans to leave his fortune to charity. In October 2014, Chow voiced support for students in the Umbrella Movement, a civil rights movement for universal suffrage in Hong Kong. Chow has appeared in over 95 films and over 25 television series. Hong Kong Film Awards he won are : Best Actor Nomination for Hong Kong 1941. Best Actor Nomination for Women, Best Supporting Actor Nomination for Love Unto Waste, Best Actor for A Better Tomorrow, Best Actor Nomination for Prison on Fire, Best Actor Nomination for An Autumn's Tale, Best Actor for City on Fire, Best Original Film Song Nomination for The Diary of a Big Man, Best Original Film Song Nomination for Triads: The Inside Story, Best Actor Nomination for God of Gamblers, Best Actor for All About Ah-Long, Best Actor Nomination for Once a Thief, Best Actor Nomination for Treasure Hunt, Best Actor Nomination for Peace Hotel, Best Actor Nomination for Crouching Tiger, Hidden Dragon, Best Actor Nomination for Curse of the Golden Flower, Best Supporting Actor Nomination for The Postmodern Life of My Aunt, Best Actor Nomination for Project Gutenberg, (14 Best Actor nominations, two Best Supporting Actor nominations, two Best Original Film Song nominations). In Chinese American Film Festival he won Golden Angel for Best Actor in a Leading Role for Project Gutenberg (2019). In 2014, Chow was the second-highest earning actor in Hong Kong, earning HK$170 million (US$21.9 million). His reported net worth is HK$5.6 billion (US$714 million). In 2018, Chow's wife Jasmine Tan informed various Hong Kong media the figure HK$5.6b of Chow's net worth, which was not verified by any third party. Chow also said he would donate 99% of his wealth to charity via setting up a foundation to help those in need. There have been no other reports on who controls the foundation and its ultimate beneficiaries. His University Honoary Awards are Hong Kong Academy for Performing Arts - Honorary Fellow (1999) , City University of Hong Kong - Honorary Doctor of Letters (2001) , Hong Kong Baptist University - Doctor of Humanities, honoris causa (2021)\n"
     ]
    }
   ],
   "source": [
    "print(text)"
   ]
  },
  {
   "cell_type": "markdown",
   "metadata": {},
   "source": [
    "### Questions on Chow Yun Fatt"
   ]
  },
  {
   "cell_type": "code",
   "execution_count": 6,
   "metadata": {},
   "outputs": [],
   "source": [
    "# Q1. Who is Chow Yun-fat's wife?\n",
    "# Q2. When was Chow Yun-fat born?\n",
    "# Q3. Which show did he acted in in 2007 and what was his role? ** \n",
    "# Q4. What are his nominations?\n",
    "# Q5. What did Chow Yun-fat do in 2003?\n",
    "# Q6. What is his nickname?\n",
    "# Q7. How many giraffes are there?"
   ]
  },
  {
   "cell_type": "code",
   "execution_count": 7,
   "metadata": {},
   "outputs": [],
   "source": [
    "question0 = \"Who is Chow Yun-fat's wife\""
   ]
  },
  {
   "cell_type": "code",
   "execution_count": 8,
   "metadata": {},
   "outputs": [],
   "source": [
    "question1 = \"When was Chow Yun-fat born\""
   ]
  },
  {
   "cell_type": "code",
   "execution_count": 9,
   "metadata": {},
   "outputs": [],
   "source": [
    "question2 = \"Which show did he acted in in 2007 and what was his role?\""
   ]
  },
  {
   "cell_type": "code",
   "execution_count": 10,
   "metadata": {},
   "outputs": [],
   "source": [
    "question3 = \"What are his nominations?\""
   ]
  },
  {
   "cell_type": "code",
   "execution_count": 11,
   "metadata": {},
   "outputs": [],
   "source": [
    "question4 = \"What are Chow Yun-fat's University Honoary Awards?\""
   ]
  },
  {
   "cell_type": "code",
   "execution_count": 12,
   "metadata": {},
   "outputs": [],
   "source": [
    "question5= \"What did Chow Yun-fat do in 2003\""
   ]
  },
  {
   "cell_type": "code",
   "execution_count": 13,
   "metadata": {},
   "outputs": [],
   "source": [
    "question6 = \"What is his nickname\""
   ]
  },
  {
   "cell_type": "code",
   "execution_count": 14,
   "metadata": {},
   "outputs": [],
   "source": [
    "question7 =\"How many giraffes are there?\""
   ]
  },
  {
   "cell_type": "markdown",
   "metadata": {},
   "source": [
    "Tokenize the input text. ONE BY ONE"
   ]
  },
  {
   "cell_type": "code",
   "execution_count": 30,
   "metadata": {},
   "outputs": [],
   "source": [
    "encoding = tokenizer(question5, text, return_tensors=\"pt\")\n",
    "input_ids = encoding[\"input_ids\"]"
   ]
  },
  {
   "cell_type": "code",
   "execution_count": 31,
   "metadata": {},
   "outputs": [],
   "source": [
    "# Get attention mask (local + global attention)\n",
    "attention_mask = encoding[\"attention_mask\"]"
   ]
  },
  {
   "cell_type": "code",
   "execution_count": 32,
   "metadata": {},
   "outputs": [],
   "source": [
    "# Get the predictions\n",
    "start_scores, end_scores = model(input_ids, attention_mask=attention_mask)\n"
   ]
  },
  {
   "cell_type": "code",
   "execution_count": 33,
   "metadata": {},
   "outputs": [],
   "source": [
    "# Convert predictions into answer\n",
    "all_tokens = tokenizer.convert_ids_to_tokens(input_ids[0].tolist())\n",
    "answer_tokens = all_tokens[torch.argmax(start_scores) :torch.argmax(end_scores)+1]\n",
    "answer = tokenizer.decode(tokenizer.convert_tokens_to_ids(answer_tokens))"
   ]
  },
  {
   "cell_type": "code",
   "execution_count": 23,
   "metadata": {},
   "outputs": [
    {
     "name": "stdout",
     "output_type": "stream",
     "text": [
      " Jasmine Tan\n"
     ]
    }
   ],
   "source": [
    "# question0 = \"Who is Chow Yun-fat's wife\"\n",
    "print(answer)"
   ]
  },
  {
   "cell_type": "code",
   "execution_count": 34,
   "metadata": {},
   "outputs": [
    {
     "name": "stdout",
     "output_type": "stream",
     "text": [
      " occasional ventures into low-budget films in the 1980s after ones by Goldig were disastrous. Most of Chow's movies produced by Goldig Films under exclusive contract in the 1970s achieved high gross revenues of over HK$ 1m per movie. These figures are higher than ones Chow acted in the early 1980s, including Modern Heroes (江湖檔案), Soul Ash (灰靈), The Bund(上海灘), The Bund Part 2(上海灘續集). Note gross revenues under list of movies. Success finally came when he teamed up with director John Woo in the 1986 gangster action-melodrama A Better Tomorrow, which swept the box offices in Asia and established Chow and Woo as megastars. A Better Tomorrow won him his first Best Actor award at the Hong Kong Film Awards. It was the highest-grossing film in Hong Kong history at the time, and set a new standard for Hong Kong gangster films. Taking the opportunity, Chow quit TV entirely. With his new image from A Better Tomorrow, he made many more 'gun fu' or 'heroic bloodshed' films, such as A Better Tomorrow 2 (1987), Prison on Fire (1987), Prison on Fire II (1991), The Killer (1989), A Better Tomorrow 3 (1990), Hard Boiled (1992) and City on Fire (1987), an inspiration for Quentin Tarantino's Reservoir Dogs. Chow may be best known for playing honorable tough guys, whether cops or criminals, but he has also starred in comedies like Diary of a Big Man (1988) and Now You See Love, Now You Don't (1992) and romantic blockbusters such as Love in a Fallen City (1984) and An Autumn's Tale (1987), for which he was named Best Actor at the Golden Horse Awards. He brought together his disparate personae in the 1989 film God of Gamblers, directed by the prolific Wong Jing, in which he was by turns a suave charmer, a broad comedian, and an action hero. The film surprised many, became immensely popular, broke Hong Kong's all-time box office record, and spawned a series of gambling films as well as several comic sequels starring Andy Lau and Stephen Chow. The often tough demeanour and youthful appearance of Chow's characters has earned him the nickname 'Babyface Killer'. Chow Yun-fat at the premiere of Pirates of the Caribbean: At World's End in 2007. The Los Angeles Times proclaimed Chow Yun-Fat 'the coolest actor in the world'. In the mid '90s, Chow moved to Hollywood in an ultimately unsuccessful attempt to duplicate his success in Asia. His first two films, The Replacement Killers (1998) and The Corruptor (1999), were box office failures. In his next film Anna and the King (1999), Chow teamed up with Jodie Foster, but the film underperformed at the box office. Chow accepted the role of Li Mu-Bai in the (2000) film Crouching Tiger, Hidden Dragon. It became a winner at both the international box office and the Oscars. In 2003, Chow came back to Hollywood and starred in Bulletproof Monk\n"
     ]
    }
   ],
   "source": [
    "# question5= \"What did Chow Yun-fat do in 2003\"\n",
    "print(answer)"
   ]
  },
  {
   "cell_type": "code",
   "execution_count": 21,
   "metadata": {},
   "outputs": [
    {
     "name": "stdout",
     "output_type": "stream",
     "text": [
      "Babyface Killer\n"
     ]
    }
   ],
   "source": [
    "# question6 = \"What is his nickname\"\n",
    "print(answer)"
   ]
  },
  {
   "cell_type": "markdown",
   "metadata": {},
   "source": [
    "credit: https://www.machinecurve.com/index.php/2021/03/12/transformers-for-long-text-code-examples-with-longformer/ (See more below)"
   ]
  },
  {
   "cell_type": "code",
   "execution_count": 22,
   "metadata": {},
   "outputs": [],
   "source": [
    "# Longformer Sliding Window\n",
    "# https://towardsdatascience.com/longformer-the-long-document-transformer-cdfeefe81e89"
   ]
  },
  {
   "cell_type": "markdown",
   "metadata": {},
   "source": [
    "Collate into a function"
   ]
  },
  {
   "cell_type": "code",
   "execution_count": 35,
   "metadata": {},
   "outputs": [],
   "source": [
    "# questions = []\n",
    "# for i in range(6):\n",
    "#     questions.append(\"question\"+str(i))\n",
    "# print (questions)\n",
    "questions = [question0, question1, question2, question3, question4, question5, question6, question7]"
   ]
  },
  {
   "cell_type": "code",
   "execution_count": 36,
   "metadata": {},
   "outputs": [
    {
     "name": "stdout",
     "output_type": "stream",
     "text": [
      "Questions elements\n",
      "Who is Chow Yun-fat's wife\n",
      " Jasmine Tan\n",
      "\n",
      "\n",
      "When was Chow Yun-fat born\n",
      " 18 May 1955\n",
      "\n",
      "\n",
      "Which show did he acted in in 2007 and what was his role?\n",
      " pirate captain Sao Feng\n",
      "\n",
      "\n",
      "What are his nominations?\n",
      "\n",
      "\n",
      "\n",
      "What are Chow Yun-fat's University Honoary Awards?\n",
      "<s>\n",
      "\n",
      "\n",
      "What did Chow Yun-fat do in 2003\n",
      " occasional ventures into low-budget films in the 1980s after ones by Goldig were disastrous. Most of Chow's movies produced by Goldig Films under exclusive contract in the 1970s achieved high gross revenues of over HK$ 1m per movie. These figures are higher than ones Chow acted in the early 1980s, including Modern Heroes (江湖檔案), Soul Ash (灰靈), The Bund(上海灘), The Bund Part 2(上海灘續集). Note gross revenues under list of movies. Success finally came when he teamed up with director John Woo in the 1986 gangster action-melodrama A Better Tomorrow, which swept the box offices in Asia and established Chow and Woo as megastars. A Better Tomorrow won him his first Best Actor award at the Hong Kong Film Awards. It was the highest-grossing film in Hong Kong history at the time, and set a new standard for Hong Kong gangster films. Taking the opportunity, Chow quit TV entirely. With his new image from A Better Tomorrow, he made many more 'gun fu' or 'heroic bloodshed' films, such as A Better Tomorrow 2 (1987), Prison on Fire (1987), Prison on Fire II (1991), The Killer (1989), A Better Tomorrow 3 (1990), Hard Boiled (1992) and City on Fire (1987), an inspiration for Quentin Tarantino's Reservoir Dogs. Chow may be best known for playing honorable tough guys, whether cops or criminals, but he has also starred in comedies like Diary of a Big Man (1988) and Now You See Love, Now You Don't (1992) and romantic blockbusters such as Love in a Fallen City (1984) and An Autumn's Tale (1987), for which he was named Best Actor at the Golden Horse Awards. He brought together his disparate personae in the 1989 film God of Gamblers, directed by the prolific Wong Jing, in which he was by turns a suave charmer, a broad comedian, and an action hero. The film surprised many, became immensely popular, broke Hong Kong's all-time box office record, and spawned a series of gambling films as well as several comic sequels starring Andy Lau and Stephen Chow. The often tough demeanour and youthful appearance of Chow's characters has earned him the nickname 'Babyface Killer'. Chow Yun-fat at the premiere of Pirates of the Caribbean: At World's End in 2007. The Los Angeles Times proclaimed Chow Yun-Fat 'the coolest actor in the world'. In the mid '90s, Chow moved to Hollywood in an ultimately unsuccessful attempt to duplicate his success in Asia. His first two films, The Replacement Killers (1998) and The Corruptor (1999), were box office failures. In his next film Anna and the King (1999), Chow teamed up with Jodie Foster, but the film underperformed at the box office. Chow accepted the role of Li Mu-Bai in the (2000) film Crouching Tiger, Hidden Dragon. It became a winner at both the international box office and the Oscars. In 2003, Chow came back to Hollywood and starred in Bulletproof Monk\n",
      "\n",
      "\n",
      "What is his nickname\n",
      "Babyface Killer\n",
      "\n",
      "\n",
      "How many giraffes are there?\n",
      " 95\n",
      "\n",
      "\n"
     ]
    }
   ],
   "source": [
    "print(\"Questions elements\")\n",
    "for i in questions: \n",
    "    print(i)\n",
    "    encoding=tokenizer(i,text, return_tensors=\"pt\")\n",
    "    input_ids = encoding[\"input_ids\"]\n",
    "    # Get attention mask (local + global attention)\n",
    "    attention_mask = encoding[\"attention_mask\"]\n",
    "    # Get the predictions\n",
    "    start_scores, end_scores = model(input_ids, attention_mask=attention_mask)\n",
    "    # Convert predictions into answer\n",
    "    all_tokens = tokenizer.convert_ids_to_tokens(input_ids[0].tolist())\n",
    "    answer_tokens = all_tokens[torch.argmax(start_scores) :torch.argmax(end_scores)+1]\n",
    "    answer = tokenizer.decode(tokenizer.convert_tokens_to_ids(answer_tokens))\n",
    "    print(answer)\n",
    "    print (\"\\n\")"
   ]
  },
  {
   "cell_type": "markdown",
   "metadata": {},
   "source": [
    "QA into a function easy for use"
   ]
  },
  {
   "cell_type": "code",
   "execution_count": 37,
   "metadata": {},
   "outputs": [],
   "source": [
    "def question_answer(question, text):\n",
    "    \n",
    "    #tokenize question and text as a pair\n",
    "    encoding = tokenizer(question, text, return_tensors=\"pt\")\n",
    "    input_ids = encoding[\"input_ids\"]\n",
    "    \n",
    "    # Get attention mask (local + global attention)\n",
    "    attention_mask = encoding[\"attention_mask\"]\n",
    "    \n",
    "    # Get the predictions\n",
    "    start_scores, end_scores = model(input_ids, attention_mask=attention_mask)\n",
    "\n",
    "    # Convert predictions into answer\n",
    "    all_tokens = tokenizer.convert_ids_to_tokens(input_ids[0].tolist())\n",
    "    answer_tokens = all_tokens[torch.argmax(start_scores) :torch.argmax(end_scores)+1]\n",
    "    answer = tokenizer.decode(tokenizer.convert_tokens_to_ids(answer_tokens))\n",
    "                    \n",
    "    #  #reconstructing the answer\n",
    "    # answer_start = torch.argmax(start_scores)\n",
    "    # answer_end = torch.argmax(end_scores)\n",
    "    #     #string version of tokenized ids\n",
    "    # tokens = tokenizer.convert_ids_to_tokens(input_ids)\n",
    "    # if answer_end >= answer_start:\n",
    "    #         answer = tokens[answer_start]\n",
    "    #         for i in range(answer_start+1, answer_end+1):\n",
    "    #             if tokens[i][0:2] == \"##\":\n",
    "    #                 answer += tokens[i][2:]\n",
    "    #             else:\n",
    "    #                 answer += \" \" + tokens[i]\n",
    "                    \n",
    "    # if answer.startswith(\"[CLS]\"):\n",
    "    #         answer = \"Unable to find the answer to your question.\"\n",
    "        \n",
    "    print(\"\\nPredicted answer:\\n{}\".format(answer.capitalize()))"
   ]
  },
  {
   "cell_type": "markdown",
   "metadata": {},
   "source": [
    "CHATBOT STYLE QA"
   ]
  },
  {
   "cell_type": "markdown",
   "metadata": {},
   "source": []
  },
  {
   "cell_type": "code",
   "execution_count": null,
   "metadata": {},
   "outputs": [],
   "source": [
    "#Please enter your text: \n",
    "#The Vatican Apostolic Library (), more commonly called the Vatican Library or simply the Vat, is the library of the Holy See, located in Vatican City. Formally established in 1475, although it is much older, it is one of the oldest libraries in the world and contains one of the most significant collections of historical texts. It has 75,000 codices from throughout history, as well as 1.1 million printed books, which include some 8,500 incunabula.   The Vatican Library is a research library for history, law, philosophy, science and theology. The Vatican Library is open to anyone who can document their qualifications and research needs. Photocopies for private study of pages from books published between 1801 and 1990 can be requested in person or by mail.   In March 2014, the Vatican Library began an initial four-year project of digitising its collection of manuscripts, to be made available online.   The Vatican Secret Archives were separated from the library at the beginning of the 17th century; they contain another 150,000 items.   Scholars have traditionally divided the history of the library into five periods, Pre-Lateran, Lateran, Avignon, Pre-Vatican and Vatican.   The Pre-Lateran period, comprising the initial days of the library, dated from the earliest days of the Church. Only a handful of volumes survive from this period, though some are very significant.\n",
    "\n",
    "# Q1 When was the Vat formally opened?\n",
    "# Q2 How many books does it have?\n",
    "# Q3 What is the library for?\n",
    "# Q4 What are the periods of the library history\n",
    "# Q5 How many books survive the earliest days of the church\n",
    "# Q6 Is the library online?\n",
    "\n",
    "# wrong answers\n",
    "#Q7 How many giraffes are there\n",
    "\n",
    "# no answers\n",
    "#Q8 when will the collection be available online?"
   ]
  },
  {
   "cell_type": "code",
   "execution_count": 38,
   "metadata": {},
   "outputs": [
    {
     "name": "stdout",
     "output_type": "stream",
     "text": [
      "\n",
      "Predicted answer:\n",
      " jasmine tan\n",
      "\n",
      "Predicted answer:\n",
      " 18 may 1955\n",
      "\n",
      "Predicted answer:\n",
      " pirate captain sao feng\n",
      "\n",
      "Predicted answer:\n",
      "\n",
      "\n",
      "Predicted answer:\n",
      "<s>\n",
      "\n",
      "Predicted answer:\n",
      " occasional ventures into low-budget films in the 1980s after ones by goldig were disastrous. most of chow's movies produced by goldig films under exclusive contract in the 1970s achieved high gross revenues of over hk$ 1m per movie. these figures are higher than ones chow acted in the early 1980s, including modern heroes (江湖檔案), soul ash (灰靈), the bund(上海灘), the bund part 2(上海灘續集). note gross revenues under list of movies. success finally came when he teamed up with director john woo in the 1986 gangster action-melodrama a better tomorrow, which swept the box offices in asia and established chow and woo as megastars. a better tomorrow won him his first best actor award at the hong kong film awards. it was the highest-grossing film in hong kong history at the time, and set a new standard for hong kong gangster films. taking the opportunity, chow quit tv entirely. with his new image from a better tomorrow, he made many more 'gun fu' or 'heroic bloodshed' films, such as a better tomorrow 2 (1987), prison on fire (1987), prison on fire ii (1991), the killer (1989), a better tomorrow 3 (1990), hard boiled (1992) and city on fire (1987), an inspiration for quentin tarantino's reservoir dogs. chow may be best known for playing honorable tough guys, whether cops or criminals, but he has also starred in comedies like diary of a big man (1988) and now you see love, now you don't (1992) and romantic blockbusters such as love in a fallen city (1984) and an autumn's tale (1987), for which he was named best actor at the golden horse awards. he brought together his disparate personae in the 1989 film god of gamblers, directed by the prolific wong jing, in which he was by turns a suave charmer, a broad comedian, and an action hero. the film surprised many, became immensely popular, broke hong kong's all-time box office record, and spawned a series of gambling films as well as several comic sequels starring andy lau and stephen chow. the often tough demeanour and youthful appearance of chow's characters has earned him the nickname 'babyface killer'. chow yun-fat at the premiere of pirates of the caribbean: at world's end in 2007. the los angeles times proclaimed chow yun-fat 'the coolest actor in the world'. in the mid '90s, chow moved to hollywood in an ultimately unsuccessful attempt to duplicate his success in asia. his first two films, the replacement killers (1998) and the corruptor (1999), were box office failures. in his next film anna and the king (1999), chow teamed up with jodie foster, but the film underperformed at the box office. chow accepted the role of li mu-bai in the (2000) film crouching tiger, hidden dragon. it became a winner at both the international box office and the oscars. in 2003, chow came back to hollywood and starred in bulletproof monk\n",
      "\n",
      "Predicted answer:\n",
      "Babyface killer\n",
      "\n",
      "Predicted answer:\n",
      " 95\n",
      "\n",
      "Bye!\n"
     ]
    }
   ],
   "source": [
    "# 2 options to input text. Either 1. assign to a variable text or 2. input into the chatbot at start\n",
    "# text = input(\"Please enter your text: \\n\")\n",
    "question = input(\"\\nPlease enter your question: \\n\")\n",
    "while True:\n",
    "    question_answer(question, text)\n",
    "    \n",
    "    flag = True\n",
    "    flag_N = False\n",
    "    \n",
    "    while flag:\n",
    "        response = input(\"\\nDo you want to ask another question based on this text (Y/N)? \")\n",
    "        if response[0] == \"Y\":\n",
    "            question = input(\"\\nPlease enter your question: \\n\")\n",
    "            flag = False\n",
    "        elif response[0] == \"N\":\n",
    "            print(\"\\nBye!\")\n",
    "            flag = False\n",
    "            flag_N = True\n",
    "            \n",
    "    if flag_N == True:\n",
    "        break"
   ]
  },
  {
   "cell_type": "code",
   "execution_count": null,
   "metadata": {},
   "outputs": [],
   "source": [
    "# References https://towardsdatascience.com/question-answering-with-a-fine-tuned-bert-bc4dafd45626; http://www.conradweb.org/~jackg/pubs/ICAIL21_Vold_Conrad.pdf; "
   ]
  },
  {
   "cell_type": "markdown",
   "metadata": {},
   "source": [
    "Chow Yun Fat from wikipedia"
   ]
  },
  {
   "cell_type": "code",
   "execution_count": null,
   "metadata": {},
   "outputs": [],
   "source": [
    "# Chow Yun-fat SBS (born 18 May 1955), previously known as Donald Chow, is a Hong Kong actor known for his collaborations with filmmaker John Woo in the action heroic bloodshed films A Better Tomorrow, The Killer, and Hard Boiled, and in the West for his roles as Li Mu-bai in Crouching Tiger, Hidden Dragon and Sao Feng in Pirates of the Caribbean: At World's End. He mainly plays in drama films and has won three Hong Kong Film Awards for Best Actor and two Golden Horse Awards for Best Actor in Taiwan. Chow started his career in movies in 1976 with Goldig Films.\n",
    "# Chow was born in Lamma Island, Hong Kong, to Chow Yung-Wan (周容允), who worked on a Shell Oil Company tanker, and Chan Lai-fong (陳麗芳), who was a cleaning lady and vegetable farmer. Chow grew up in a farming community on Lamma Island, in a house with no electricity. He woke up at dawn each morning to help his mother sell herbal jelly and Hakka tea-pudding (客家茶粿) on the streets; in the afternoons, he went to work in the fields. His family moved to Kowloon when he was ten.\n",
    "\n",
    "# At 17, Chow left school to help support the family by doing odd jobs including a bellboy, postman, camera salesman, and taxi driver.\n",
    "\n",
    "# Chow's life started to change after college when he responded to a newspaper advertisement, and his actor-trainee application was accepted by TVB, the local television station. He signed a three-year contract with the studio and made his acting debut. Chow became a heartthrob and familiar face in soap operas that were exported internationally. According to Chow Yun-fat's filmography, Chow made his debut in 1976 in various movies produced by Goldig Films, including Hot Blood (入冊).  Goldig Films was founded by Gouw Hiap Kian and produced or distributed over 100 movies from 1972 to 1982.\n",
    "\n",
    "\n",
    "# Chow's first movie contract was an exclusive acting contract with Goldig Films (note page 3). Chow appeared in the 1980 TV series The Bund on TVB. The series, about the rise and fall of a gangster in 1930s Shanghai, was a hit throughout Asia and made Chow a star.\n",
    "\n",
    "# Although Chow continued his TV success, his goal was to become a film actor. However, his occasional ventures into low-budget films in the 1980s after ones by Goldig were disastrous. Most of Chow's movies produced by Goldig Films under exclusive contract in the 1970s achieved high gross revenues of over HK$ 1m per movie. These figures are higher than ones Chow acted in the early 1980s, including Modern Heroes (江湖檔案), Soul Ash (灰靈), The Bund(上海灘), The Bund Part 2(上海灘續集) . Note gross revenues under list of movies.\n",
    "\n",
    "# Success finally came when he teamed up with director John Woo in the 1986 gangster action-melodrama A Better Tomorrow, which swept the box offices in Asia and established Chow and Woo as megastars. A Better Tomorrow won him his first Best Actor award at the Hong Kong Film Awards. It was the highest-grossing film in Hong Kong history at the time, and set a new standard for Hong Kong gangster films. Taking the opportunity, Chow quit TV entirely. With his new image from A Better Tomorrow, he made many more 'gun fu' or 'heroic bloodshed' films, such as A Better Tomorrow 2 (1987), Prison on Fire (1987), Prison on Fire II (1991), The Killer (1989), A Better Tomorrow 3 (1990), Hard Boiled (1992) and City on Fire (1987), an inspiration for Quentin Tarantino's Reservoir Dogs.\n",
    "\n",
    "# Chow may be best known for playing honorable tough guys, whether cops or criminals, but he has also starred in comedies like Diary of a Big Man (1988) and Now You See Love, Now You Don't (1992) and romantic blockbusters such as Love in a Fallen City (1984) and An Autumn's Tale (1987), for which he was named Best Actor at the Golden Horse Awards. He brought together his disparate personae in the 1989 film God of Gamblers, directed by the prolific Wong Jing, in which he was by turns a suave charmer, a broad comedian, and an action hero. The film surprised many, became immensely popular, broke Hong Kong's all-time box office record, and spawned a series of gambling films as well as several comic sequels starring Andy Lau and Stephen Chow. The often tough demeanour and youthful appearance of Chow's characters has earned him the nickname \"Babyface Killer\".\n",
    "\n",
    "\n",
    "# Chow Yun-fat at the premiere of Pirates of the Caribbean: At World's End in 2007\n",
    "# The Los Angeles Times proclaimed Chow Yun-Fat \"the coolest actor in the world\". In the mid '90s, Chow moved to Hollywood in an ultimately unsuccessful attempt to duplicate his success in Asia. His first two films, The Replacement Killers (1998) and The Corruptor (1999), were box office failures. In his next film Anna and the King (1999), Chow teamed up with Jodie Foster, but the film underperformed at the box office. Chow accepted the role of Li Mu-Bai in the (2000) film Crouching Tiger, Hidden Dragon. It became a winner at both the international box office and the Oscars. In 2003, Chow came back to Hollywood and starred in Bulletproof Monk. In 2004, Chow made a surprise cameo in director Dayyan Eng's Chinese rom-com favourite Waiting Alone, it was the first time he was in a mainland Chinese film. In 2006, he teamed up with Gong Li in the film Curse of the Golden Flower, directed by Zhang Yimou.\n",
    "\n",
    "# In 2007, Chow played the pirate captain Sao Feng in Pirates of the Caribbean: At World's End. However, his part was omitted when the movie was shown in mainland China, where government censors felt that Chow's character \"vilified and humiliated\" Chinese people.\n",
    "\n",
    "# In the poorly received film Dragonball Evolution, Chow Yun-fat played Master Roshi.\n",
    "\n",
    "# In 2014, Chow returned to Hong Kong cinema in From Vegas to Macau. For the part, he lost 13 kg within 10 months.\n",
    "\n",
    "# In 2015 and 2016, Chow reprised his role as Ken in the sequels From Vegas to Macau II and From Vegas to Macau III.\n",
    "\n",
    "# In 2018, he co-starred with Aaron Kwok in Project Gutenberg which earned him another Best Actor nomination at the 38th Hong Kong Film Awards.\n",
    "\n",
    "# On 26 June 2008, Chow released his first photo collection, which includes pictures taken on the sets of his films. Proceeds from the book's sales were donated to Sichuan earthquake victims. It is published by Louis Vuitton.\n",
    "\n",
    "# Chow has been married twice; first was in 1983 to Candice Yu, an actress from Asia Television; the marriage lasted nine months. In 1986, Chow married Singaporean Jasmine Tan. They had a stillborn daughter in 1991. Chow has a goddaughter, Celine Ng, a former child model for Chickeeduck, McDonald's, Toys'R'Us and other companies.\n",
    "\n",
    "# Despite his wealth, Chow lives modestly. He is frequently seen at food stalls and on public transportation. In interviews, he has said he plans to leave his fortune to charity.\n",
    "\n",
    "# In October 2014, Chow voiced support for students in the Umbrella Movement, a civil rights movement for universal suffrage in Hong Kong.\n",
    "\n",
    "# Chow has appeared in over 95 films and over 25 television series.\n",
    "\n",
    "# Hong Kong Film Awards he won are :\n",
    "# Best Actor Nomination for Hong Kong 1941\n",
    "# Best Actor Nomination for Women\n",
    "# Best Supporting Actor Nomination for Love Unto Waste\n",
    "# Best Actor for A Better Tomorrow\n",
    "# Best Actor Nomination for Prison on Fire\n",
    "# Best Actor Nomination for An Autumn's Tale\n",
    "# Best Actor for City on Fire\n",
    "# Best Original Film Song Nomination for The Diary of a Big Man\n",
    "# Best Original Film Song Nomination for Triads: The Inside Story\n",
    "# Best Actor Nomination for God of Gamblers\n",
    "# Best Actor for All About Ah-Long\n",
    "# Best Actor Nomination for Once a Thief\n",
    "# Best Actor Nomination for Treasure Hunt\n",
    "# Best Actor Nomination for Peace Hotel\n",
    "# Best Actor Nomination for Crouching Tiger, Hidden Dragon\n",
    "# Best Actor Nomination for Curse of the Golden Flower\n",
    "# Best Supporting Actor Nomination for The Postmodern Life of My Aunt\n",
    "# Best Actor Nomination for Project Gutenberg\n",
    "# (14 Best Actor nominations, two Best Supporting Actor nominations, two Best Original Film Song nominations)\n",
    "\n",
    "# In Chinese American Film Festival he won\n",
    "\n",
    "# Golden Angel for Best Actor in a Leading Role for Project Gutenberg (2019)\n",
    "\n",
    "# In 2014, Chow was the second-highest earning actor in Hong Kong, earning HK$170 million (US$21.9 million). His reported net worth is HK$5.6 billion (US$714 million). In 2018, Chow's wife Jasmine Tan informed various Hong Kong media the figure HK$5.6b of Chow's net worth, which was not verified by any third party. Chow also said he would donate 99% of his wealth to charity via setting up a foundation to help those in need. There have been no other reports on who controls the foundation and its ultimate beneficiaries.\n",
    "\n",
    "# His University Honoary Aware are Hong Kong Academy for Performing Arts - Honorary Fellow (1999) , City University of Hong Kong - Honorary Doctor of Letters (2001) , Hong Kong Baptist University - Doctor of Humanities, honoris causa (2021) \n"
   ]
  },
  {
   "cell_type": "markdown",
   "metadata": {},
   "source": [
    "## Compare with Short text"
   ]
  },
  {
   "cell_type": "code",
   "execution_count": 39,
   "metadata": {},
   "outputs": [],
   "source": [
    "\n",
    "short_text = \"Personal data refers to data about an individual who can be identified from that data, or from that data and other information to which the organisation has or is likely to have access. The Personal Data Protection Act (PDPA) provides a baseline standard of protection for personal data in Singapore. It complements sector-specific legislative and regulatory frameworks such as the Banking Act and Insurance Act. It comprises various requirements governing the collection, use, disclosure and care of personal data in Singapore. It also provides for the establishment of a national Do Not Call (DNC) Registry. Individuals may register their Singapore telephone numbers with the DNC Registry to opt out of receiving unwanted telemarketing messages from organisations. The PDPA recognises both the need to protect individuals’ personal data and the need of organisations to collect, use or disclose personal data for legitimate and reasonable purposes. A data protection regime is necessary to safeguard personal data from misuse and to maintain individuals’ trust in organisations that manage their data. By regulating the flow of personal data among organisations, the PDPA also aims to strengthen Singapore’s position as a trusted hub for businesses. The PDPA covers personal data stored in electronic and non-electronic formats. It generally does not apply to any individual acting on a personal or domestic basis, any individual acting in his/her capacity as an employee with an organisation , any public agency in relation to the collection, use or disclosure of personal data, any business contact information such as an individual’s name, position or title, business telephone number, business address, business email, business fax number and similar information and organisations are required to comply with the various data protection obligations if they undertake activities relating to the collection, use or disclosure of personal data.\""
   ]
  },
  {
   "cell_type": "code",
   "execution_count": 40,
   "metadata": {},
   "outputs": [],
   "source": [
    "short_question0 = \"What is Personal Data?\"\n",
    "short_question1 = \"Does it overrides the other pieces of legistrations?\"\n",
    "short_question2 = \"What is the purpose of PDPA?\"\n",
    "short_question3 = \"What do the organisations need to do to ensure they comply with PDPA?/ How do organisations comply with the PDPA?\"\n",
    "short_question4 = \"What are not within the scope of PDPA?\"\n",
    "short_question5 = \"How many giraffes are there?\"\n",
    "short_questions = [short_question0, short_question1, short_question2, short_question3, short_question4, short_question5]"
   ]
  },
  {
   "cell_type": "code",
   "execution_count": 41,
   "metadata": {},
   "outputs": [
    {
     "name": "stdout",
     "output_type": "stream",
     "text": [
      "Questions elements\n",
      "What is Personal Data?\n",
      " data about an individual who can be identified from that data, or from that data and other information to which the organisation has or is likely to have access\n",
      "\n",
      "\n",
      "Does it overrides the other pieces of legistrations?\n",
      " It complements sector-specific legislative and regulatory frameworks\n",
      "\n",
      "\n",
      "What is the purpose of PDPA?\n",
      " provides a baseline standard of protection for personal data in Singapore\n",
      "\n",
      "\n",
      "What do the organisations need to do to ensure they comply with PDPA?/ How do organisations comply with the PDPA?\n",
      " if they undertake activities relating to the collection, use or disclosure of personal data\n",
      "\n",
      "\n",
      "What are not within the scope of PDPA?\n",
      " It generally does not apply to any individual acting on a personal or domestic basis\n",
      "\n",
      "\n",
      "How many giraffes are there?\n",
      "<s>\n",
      "\n",
      "\n"
     ]
    }
   ],
   "source": [
    "print(\"Questions elements\")\n",
    "for i in short_questions: \n",
    "    print(i)\n",
    "    encoding=tokenizer(i,short_text, return_tensors=\"pt\")\n",
    "    input_ids = encoding[\"input_ids\"]\n",
    "    # Get attention mask (local + global attention)\n",
    "    attention_mask = encoding[\"attention_mask\"]\n",
    "    # Get the predictions\n",
    "    start_scores, end_scores = model(input_ids, attention_mask=attention_mask)\n",
    "    # Convert predictions into answer\n",
    "    all_tokens = tokenizer.convert_ids_to_tokens(input_ids[0].tolist())\n",
    "    answer_tokens = all_tokens[torch.argmax(start_scores) :torch.argmax(end_scores)+1]\n",
    "    answer = tokenizer.decode(tokenizer.convert_tokens_to_ids(answer_tokens))\n",
    "    print(answer)\n",
    "    print (\"\\n\")"
   ]
  },
  {
   "cell_type": "markdown",
   "metadata": {},
   "source": [
    "NOTES From bert chatbot"
   ]
  },
  {
   "cell_type": "code",
   "execution_count": null,
   "metadata": {},
   "outputs": [],
   "source": [
    "def question_answer(question, text):\n",
    "    \n",
    "    #tokenize question and text as a pair\n",
    "    input_ids = tokenizer.encode(question, text)\n",
    "    \n",
    "    #string version of tokenized ids\n",
    "    tokens = tokenizer.convert_ids_to_tokens(input_ids)\n",
    "    \n",
    "    #segment IDs\n",
    "    #first occurence of [SEP] token\n",
    "    sep_idx = input_ids.index(tokenizer.sep_token_id)\n",
    "    #number of tokens in segment A (question)\n",
    "    num_seg_a = sep_idx+1\n",
    "    #number of tokens in segment B (text)\n",
    "    num_seg_b = len(input_ids) - num_seg_a\n",
    "    \n",
    "    #list of 0s and 1s for segment embeddings\n",
    "    segment_ids = [0]*num_seg_a + [1]*num_seg_b\n",
    "    assert len(segment_ids) == len(input_ids)\n",
    "    \n",
    "    #model output using input_ids and segment_ids\n",
    "    output = model(torch.tensor([input_ids]), token_type_ids=torch.tensor([segment_ids]))\n",
    "    \n",
    "    #reconstructing the answer\n",
    "    answer_start = torch.argmax(output.start_logits)\n",
    "    answer_end = torch.argmax(output.end_logits)\n",
    "    if answer_end >= answer_start:\n",
    "        answer = tokens[answer_start]\n",
    "        for i in range(answer_start+1, answer_end+1):\n",
    "            if tokens[i][0:2] == \"##\":\n",
    "                answer += tokens[i][2:]\n",
    "            else:\n",
    "                answer += \" \" + tokens[i]\n",
    "                \n",
    "    if answer.startswith(\"[CLS]\"):\n",
    "        answer = \"Unable to find the answer to your question.\"\n",
    "    \n",
    "    print(\"\\nPredicted answer:\\n{}\".format(answer.capitalize()))"
   ]
  }
 ],
 "metadata": {
  "interpreter": {
   "hash": "060d54d4ce858688ad6231c7ce8d6f336c144f153828bd33366cca7c89f987e8"
  },
  "kernelspec": {
   "display_name": "Python 3.9.4 64-bit ('chatbot': venv)",
   "language": "python",
   "name": "python3"
  },
  "language_info": {
   "codemirror_mode": {
    "name": "ipython",
    "version": 3
   },
   "file_extension": ".py",
   "mimetype": "text/x-python",
   "name": "python",
   "nbconvert_exporter": "python",
   "pygments_lexer": "ipython3",
   "version": "3.7.12"
  },
  "orig_nbformat": 4
 },
 "nbformat": 4,
 "nbformat_minor": 2
}
